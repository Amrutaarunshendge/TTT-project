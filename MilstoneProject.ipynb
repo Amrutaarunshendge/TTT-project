{
 "cells": [
  {
   "cell_type": "markdown",
   "id": "53fc2e3e-edb7-4c9a-8f50-ad29902269ec",
   "metadata": {
    "jp-MarkdownHeadingCollapsed": true,
    "tags": []
   },
   "source": [
    "# Tic Tac Toe Game"
   ]
  },
  {
   "cell_type": "markdown",
   "id": "078e9434-ee22-4651-a3bf-c5c7680cb930",
   "metadata": {},
   "source": [
    "## Step:- 1"
   ]
  },
  {
   "cell_type": "markdown",
   "id": "0140d5e6-5d5c-4b48-ba68-9e24e3aa9cb0",
   "metadata": {},
   "source": [
    "#### Write a fuction that can print out a board.setup your board as a list,where each index 1-9 correseponds with a number on a number pad,so you get a 3 by 3 board representation."
   ]
  },
  {
   "cell_type": "code",
   "execution_count": 24,
   "id": "9c7a0a60-ce10-4eae-9029-7328a23ac8eb",
   "metadata": {},
   "outputs": [],
   "source": [
    "from IPython.display import clear_output\n",
    "def display_board(board):\n",
    "    clear_output()\n",
    "    print(board[7] + '|' + board[8] + '|' + board[9])\n",
    "    print(board[4] + '|' + board[5] + '|' + board[6])\n",
    "    print(board[1] + '|' + board[2] + '|' + board[3])"
   ]
  },
  {
   "cell_type": "code",
   "execution_count": 25,
   "id": "9dafccb6-a39e-46c6-af74-8df0b8a0d2aa",
   "metadata": {},
   "outputs": [
    {
     "name": "stdout",
     "output_type": "stream",
     "text": [
      "X|O|X\n",
      "O|X|O\n",
      "X|O|X\n"
     ]
    }
   ],
   "source": [
    "test_board = ['O','X','O','X','O','X','O','X','O','X',]\n",
    "display_board(test_board)"
   ]
  },
  {
   "cell_type": "markdown",
   "id": "f9a5a0b4-e190-40a2-8aba-078b727bc5d4",
   "metadata": {},
   "source": [
    "## Step:- 2"
   ]
  },
  {
   "cell_type": "markdown",
   "id": "a9870c68-4e41-441b-9e64-6bdfca3a3527",
   "metadata": {},
   "source": [
    "#### Write a function that can take in a player input and assign their marker as 'X' or 'O'. Think about using while loops to continually ask until you get a correct answer."
   ]
  },
  {
   "cell_type": "code",
   "execution_count": 26,
   "id": "480d0c74-a439-4ff5-8036-e53c5b5ef1dd",
   "metadata": {},
   "outputs": [],
   "source": [
    "def player_input():\n",
    "    marker=''\n",
    "    while marker !='X' and marker !='O':\n",
    "        marker = input('player1,choose X or O:')\n",
    "    player1 == marker\n",
    "    if player1 == 'X':\n",
    "         player2 = 'O'\n",
    "    else:\n",
    "        player2 = 'X'\n",
    "    return (player1,player2)\n",
    "    pass\n",
    "        "
   ]
  },
  {
   "cell_type": "code",
   "execution_count": null,
   "id": "e5396ef3-7fff-4370-acaa-81810c8f12aa",
   "metadata": {},
   "outputs": [],
   "source": []
  },
  {
   "cell_type": "markdown",
   "id": "4aea8e0d-ad9e-456b-9caa-c176959878fd",
   "metadata": {},
   "source": [
    "## Step:-3"
   ]
  },
  {
   "cell_type": "markdown",
   "id": "833812c6-9ae6-4f9f-9e4f-a14443b8a875",
   "metadata": {},
   "source": [
    "\n",
    "\n",
    "\n",
    "\n",
    "#### Write a function that takes in the board list object,a maker ('X','O'), and the desired position (number 1-9) and assigns it to the board."
   ]
  },
  {
   "cell_type": "code",
   "execution_count": 27,
   "id": "4709cde6-a712-452e-b03b-1d95e58fc5b0",
   "metadata": {},
   "outputs": [
    {
     "data": {
      "text/plain": [
       "['O', 'X', 'O', 'X', 'O', 'X', 'O', 'X', 'O', 'X']"
      ]
     },
     "execution_count": 27,
     "metadata": {},
     "output_type": "execute_result"
    }
   ],
   "source": [
    "test_board"
   ]
  },
  {
   "cell_type": "code",
   "execution_count": 28,
   "id": "6e51193d-d87e-487d-96fd-1eb002fe54ac",
   "metadata": {},
   "outputs": [
    {
     "data": {
      "text/plain": [
       "['O', 'X', 'O', 'X', 'O', 'X', 'O', 'X', 'O', 'X']"
      ]
     },
     "execution_count": 28,
     "metadata": {},
     "output_type": "execute_result"
    }
   ],
   "source": [
    "def place_marker(board,marker,position):\n",
    "    board[position] = marker\n",
    "test_board"
   ]
  },
  {
   "cell_type": "code",
   "execution_count": 29,
   "id": "78c582db-086c-4b42-bdc0-b8cc4f070cd3",
   "metadata": {},
   "outputs": [
    {
     "name": "stdout",
     "output_type": "stream",
     "text": [
      "X|$|X\n",
      "O|X|O\n",
      "X|O|X\n"
     ]
    }
   ],
   "source": [
    "place_marker(test_board,'$',8)\n",
    "display_board(test_board)"
   ]
  },
  {
   "cell_type": "markdown",
   "id": "00a525c9-645e-45e6-874d-20095ed27d79",
   "metadata": {},
   "source": [
    "## Step:-4"
   ]
  },
  {
   "cell_type": "markdown",
   "id": "eaf422dc-f242-4b44-a7f2-88367295aa33",
   "metadata": {},
   "source": [
    "#### Write a function that takes in a board and a mark ('X'or'O') and then checks to see if that marks has won."
   ]
  },
  {
   "cell_type": "code",
   "execution_count": 30,
   "id": "89c064c8-32b8-412a-bb49-d0283163e0da",
   "metadata": {},
   "outputs": [],
   "source": [
    "def win_check(board, mark):\n",
    "    return ((board[4] == board[5] == board[6] == mark) or\n",
    "            (board[7] == board[8] == board[9] == mark) or\n",
    "            (board[1] == board[2] == board[3] == mark) or\n",
    "            (board[1] == board[4] == board[7] == mark) or\n",
    "            (board[2] == board[5] == board[8] == mark) or\n",
    "            (board[3] == board[6] == board[9] == mark) or\n",
    "            (board[7] == board[5] == board[3] == mark) or\n",
    "            (board[9] == board[5] == board[1] == mark))"
   ]
  },
  {
   "cell_type": "code",
   "execution_count": 31,
   "id": "0b5766c8-d252-4eee-a971-ee6028e229e1",
   "metadata": {},
   "outputs": [
    {
     "name": "stdout",
     "output_type": "stream",
     "text": [
      "X|$|X\n",
      "O|X|O\n",
      "X|O|X\n"
     ]
    },
    {
     "data": {
      "text/plain": [
       "True"
      ]
     },
     "execution_count": 31,
     "metadata": {},
     "output_type": "execute_result"
    }
   ],
   "source": [
    "display_board(test_board)\n",
    "win_check(test_board,'X')"
   ]
  },
  {
   "cell_type": "markdown",
   "id": "c45d1da0-2615-46c5-accc-e5227a81b9be",
   "metadata": {},
   "source": [
    "## Step:-5"
   ]
  },
  {
   "cell_type": "markdown",
   "id": "b9d130aa-270a-4669-bf52-1df41d0ecd8c",
   "metadata": {},
   "source": [
    "#### Write a function that uses the random module to randomly decide which player goes first.you may want to lookup random.randint().Return a string of which player went first."
   ]
  },
  {
   "cell_type": "code",
   "execution_count": 32,
   "id": "145afeef-8110-474e-b5a4-c95096e2a3bc",
   "metadata": {},
   "outputs": [],
   "source": [
    "import random \n",
    "\n",
    "def choose_first():\n",
    "    flip = random.randit(0,1)\n",
    "    if flip == 0:\n",
    "        return 'player1'\n",
    "    else:\n",
    "        return 'player2'"
   ]
  },
  {
   "cell_type": "markdown",
   "id": "a2ebd785-398b-4319-91a4-b2120b7a6f2f",
   "metadata": {},
   "source": [
    "## Step:-6"
   ]
  },
  {
   "cell_type": "markdown",
   "id": "8531cece-53b2-4477-9cc7-4ced9d5bcbff",
   "metadata": {},
   "source": [
    "#### Write a function that returns a boolean indicating whether a space on the board is freely available."
   ]
  },
  {
   "cell_type": "code",
   "execution_count": 33,
   "id": "25d83d61-b0eb-4342-952c-5358dbbe4710",
   "metadata": {},
   "outputs": [],
   "source": [
    "def space_check(board,position):\n",
    "    return board[position] == ''"
   ]
  },
  {
   "cell_type": "markdown",
   "id": "7047a196-d92e-43a2-b8e9-1cdc6113bf96",
   "metadata": {},
   "source": [
    "## Step:-7"
   ]
  },
  {
   "cell_type": "markdown",
   "id": "a3891c74-faa1-4f9f-b3a7-39c8e87d0fbf",
   "metadata": {},
   "source": [
    "#### Write a function that checks if the board is full and returns a boolean value.True if full,False otherwise."
   ]
  },
  {
   "cell_type": "code",
   "execution_count": 34,
   "id": "9c759ae4-f6af-49ba-9692-2cece8a50214",
   "metadata": {},
   "outputs": [],
   "source": [
    "def full_board_check(board):\n",
    "    for i in range(1,10):\n",
    "        if space_check(board,i):\n",
    "            return False \n",
    "        return True"
   ]
  },
  {
   "cell_type": "markdown",
   "id": "4e0cc68a-59ea-405d-993d-2f47729a138c",
   "metadata": {},
   "source": [
    "## Step:-8"
   ]
  },
  {
   "cell_type": "markdown",
   "id": "66e3ee76-1909-45f8-9a4d-4f1dd4b096ab",
   "metadata": {},
   "source": [
    "#### Write a function that asks for a players next position(as a number 1-9) and then uses the function from step 6 to check if it's free position.If it is,then return the position for later use."
   ]
  },
  {
   "cell_type": "code",
   "execution_count": 35,
   "id": "68af0f26-ea39-4ec6-9125-29bdce0c8e18",
   "metadata": {},
   "outputs": [],
   "source": [
    "def player_choice(board):\n",
    "    position = 0\n",
    "    while position not in [1,2,3,4,5,6,7,8,9] or not space_board(board,position):\n",
    "        position = int(input('Choose a position 1-9'))\n",
    "        \n",
    "        return position"
   ]
  },
  {
   "cell_type": "markdown",
   "id": "550f1714-fdf9-4eb7-845f-2f9f8b32c01d",
   "metadata": {},
   "source": [
    "## Step:-9"
   ]
  },
  {
   "cell_type": "markdown",
   "id": "86ce9c24-cd99-409c-89aa-92a7428c4a79",
   "metadata": {},
   "source": [
    "#### Write a function that asks the player if they want to play again and returns a blooen True if they do want to play again."
   ]
  },
  {
   "cell_type": "code",
   "execution_count": 36,
   "id": "cf6e2031-5560-4c1c-91ab-ff3781b7b44b",
   "metadata": {},
   "outputs": [],
   "source": [
    "def replay():\n",
    "    return input('play again? enter Y or N').startswith('y')"
   ]
  },
  {
   "cell_type": "markdown",
   "id": "5206a654-4d4f-4155-bb20-9912e49e93d1",
   "metadata": {},
   "source": [
    "## Step:-10"
   ]
  },
  {
   "cell_type": "markdown",
   "id": "9abf8908-e174-4575-a935-d754e41fffa3",
   "metadata": {},
   "source": [
    "#### Here comes the hard part! use while loops and the functions  you've made to ren the game!"
   ]
  },
  {
   "cell_type": "code",
   "execution_count": 38,
   "id": "9a7553f6-1d18-45ef-a481-383cf80d3783",
   "metadata": {},
   "outputs": [
    {
     "name": "stdout",
     "output_type": "stream",
     "text": [
      "Tic-Tac-Toe Game\n",
      "Player 1 [X] --- Player 2 [O]\n",
      "\n",
      "\n",
      "\n",
      "Please Wait...\n"
     ]
    },
    {
     "ename": "NameError",
     "evalue": "name 'os' is not defined",
     "output_type": "error",
     "traceback": [
      "\u001b[1;31m---------------------------------------------------------------------------\u001b[0m",
      "\u001b[1;31mNameError\u001b[0m                                 Traceback (most recent call last)",
      "\u001b[1;32m~\\AppData\\Local\\Temp/ipykernel_8240/4053329729.py\u001b[0m in \u001b[0;36m<module>\u001b[1;34m\u001b[0m\n\u001b[0;32m     65\u001b[0m \u001b[0mtime\u001b[0m\u001b[1;33m.\u001b[0m\u001b[0msleep\u001b[0m\u001b[1;33m(\u001b[0m\u001b[1;36m3\u001b[0m\u001b[1;33m)\u001b[0m\u001b[1;33m\u001b[0m\u001b[1;33m\u001b[0m\u001b[0m\n\u001b[0;32m     66\u001b[0m \u001b[1;32mwhile\u001b[0m\u001b[1;33m(\u001b[0m\u001b[0mGame\u001b[0m \u001b[1;33m==\u001b[0m \u001b[0mRunning\u001b[0m\u001b[1;33m)\u001b[0m\u001b[1;33m:\u001b[0m\u001b[1;33m\u001b[0m\u001b[1;33m\u001b[0m\u001b[0m\n\u001b[1;32m---> 67\u001b[1;33m     \u001b[0mos\u001b[0m\u001b[1;33m.\u001b[0m\u001b[0msystem\u001b[0m\u001b[1;33m(\u001b[0m\u001b[1;34m'cls'\u001b[0m\u001b[1;33m)\u001b[0m\u001b[1;33m\u001b[0m\u001b[1;33m\u001b[0m\u001b[0m\n\u001b[0m\u001b[0;32m     68\u001b[0m     \u001b[0mDrawBoard\u001b[0m\u001b[1;33m(\u001b[0m\u001b[1;33m)\u001b[0m\u001b[1;33m\u001b[0m\u001b[1;33m\u001b[0m\u001b[0m\n\u001b[0;32m     69\u001b[0m     \u001b[1;32mif\u001b[0m\u001b[1;33m(\u001b[0m\u001b[0mplayer\u001b[0m \u001b[1;33m%\u001b[0m \u001b[1;36m2\u001b[0m \u001b[1;33m!=\u001b[0m \u001b[1;36m0\u001b[0m\u001b[1;33m)\u001b[0m\u001b[1;33m:\u001b[0m\u001b[1;33m\u001b[0m\u001b[1;33m\u001b[0m\u001b[0m\n",
      "\u001b[1;31mNameError\u001b[0m: name 'os' is not defined"
     ]
    }
   ],
   "source": [
    "# import os    \n",
    "import time    \n",
    "    \n",
    "board = [' ',' ',' ',' ',' ',' ',' ',' ',' ',' ']    \n",
    "player = 1    \n",
    "   \n",
    "########win Flags##########    \n",
    "Win = 1    \n",
    "Draw = -1    \n",
    "Running = 0    \n",
    "Stop = 1    \n",
    "###########################    \n",
    "Game = Running    \n",
    "Mark = 'X'    \n",
    "   \n",
    "#This Function Draws Game Board    \n",
    "def DrawBoard():    \n",
    "    print(\" %c | %c | %c \" % (board[1],board[2],board[3]))    \n",
    "    print(\"___|___|___\")    \n",
    "    print(\" %c | %c | %c \" % (board[4],board[5],board[6]))    \n",
    "    print(\"___|___|___\")    \n",
    "    print(\" %c | %c | %c \" % (board[7],board[8],board[9]))    \n",
    "    print(\"   |   |   \")    \n",
    "   \n",
    "#This Function Checks position is empty or not    \n",
    "def CheckPosition(x):    \n",
    "    if(board[x] == ' '):    \n",
    "        return True    \n",
    "    else:    \n",
    "        return False    \n",
    "   \n",
    "#This Function Checks player has won or not    \n",
    "def CheckWin():    \n",
    "    global Game    \n",
    "    #Horizontal winning condition    \n",
    "    if(board[1] == board[2] and board[2] == board[3] and board[1] != ' '):    \n",
    "        Game = Win    \n",
    "    elif(board[4] == board[5] and board[5] == board[6] and board[4] != ' '):    \n",
    "        Game = Win    \n",
    "    elif(board[7] == board[8] and board[8] == board[9] and board[7] != ' '):    \n",
    "        Game = Win    \n",
    "    #Vertical Winning Condition    \n",
    "    elif(board[1] == board[4] and board[4] == board[7] and board[1] != ' '):    \n",
    "        Game = Win    \n",
    "    elif(board[2] == board[5] and board[5] == board[8] and board[2] != ' '):    \n",
    "        Game = Win    \n",
    "    elif(board[3] == board[6] and board[6] == board[9] and board[3] != ' '):    \n",
    "        Game=Win    \n",
    "    #Diagonal Winning Condition    \n",
    "    elif(board[1] == board[5] and board[5] == board[9] and board[5] != ' '):    \n",
    "        Game = Win    \n",
    "    elif(board[3] == board[5] and board[5] == board[7] and board[5] != ' '):    \n",
    "        Game=Win    \n",
    "    #Match Tie or Draw Condition    \n",
    "    elif(board[1]!=' ' and board[2]!=' ' and board[3]!=' ' and board[4]!=' ' and board[5]!=' ' and board[6]!=' ' and board[7]!=' ' and board[8]!=' ' and board[9]!=' '):    \n",
    "        Game=Draw    \n",
    "    else:            \n",
    "        Game=Running    \n",
    "    \n",
    "print(\"Tic-Tac-Toe Game\")    \n",
    "print(\"Player 1 [X] --- Player 2 [O]\\n\")    \n",
    "print()    \n",
    "print()    \n",
    "print(\"Please Wait...\")    \n",
    "time.sleep(3)    \n",
    "while(Game == Running):    \n",
    "    os.system('cls')    \n",
    "    DrawBoard()    \n",
    "    if(player % 2 != 0):    \n",
    "        print(\"Player 1's chance\")    \n",
    "        Mark = 'X'    \n",
    "    else:    \n",
    "        print(\"Player 2's chance\")    \n",
    "        Mark = 'O'    \n",
    "    choice = int(input(\"Enter the position between [1-9] where you want to mark : \"))    \n",
    "    if(CheckPosition(choice)):    \n",
    "        board[choice] = Mark    \n",
    "        player+=1    \n",
    "        CheckWin()    \n",
    "    \n",
    "os.system('cls')    \n",
    "DrawBoard()    \n",
    "if(Game==Draw):    \n",
    "    print(\"Game Draw\")    \n",
    "elif(Game==Win):    \n",
    "    player-=1    \n",
    "    if(player%2!=0):    \n",
    "        print(\"Player 1 Won\")    \n",
    "    else:    \n",
    "        print(\"Player 2 Won\")    \n"
   ]
  },
  {
   "cell_type": "code",
   "execution_count": null,
   "id": "c7d77f89-3231-4e1a-86a9-5945ee8fb43e",
   "metadata": {},
   "outputs": [],
   "source": [
    "\n",
    "\n",
    "\n",
    "\n",
    "\n",
    "\n",
    "\n",
    "\n",
    "\n",
    "\n",
    "\n",
    "\n",
    "\n",
    "\n",
    "\n",
    "\n"
   ]
  },
  {
   "cell_type": "code",
   "execution_count": null,
   "id": "3c392191-549d-4dcd-9825-3f213a8cb0ad",
   "metadata": {},
   "outputs": [],
   "source": []
  }
 ],
 "metadata": {
  "kernelspec": {
   "display_name": "Python 3 (ipykernel)",
   "language": "python",
   "name": "python3"
  },
  "language_info": {
   "codemirror_mode": {
    "name": "ipython",
    "version": 3
   },
   "file_extension": ".py",
   "mimetype": "text/x-python",
   "name": "python",
   "nbconvert_exporter": "python",
   "pygments_lexer": "ipython3",
   "version": "3.9.7"
  }
 },
 "nbformat": 4,
 "nbformat_minor": 5
}
